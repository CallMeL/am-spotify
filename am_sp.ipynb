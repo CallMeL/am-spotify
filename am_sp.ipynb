{
  "nbformat": 4,
  "nbformat_minor": 0,
  "metadata": {
    "colab": {
      "name": "am-sp.ipynb",
      "provenance": [],
      "machine_shape": "hm"
    },
    "kernelspec": {
      "name": "python3",
      "display_name": "Python 3"
    },
    "language_info": {
      "name": "python"
    },
    "accelerator": "GPU",
    "gpuClass": "standard"
  },
  "cells": [
    {
      "cell_type": "markdown",
      "source": [
        "# Apple Music to Spotify Liked Songs\n",
        "\n",
        "## Spotify\n",
        "1. log in spotify development \n",
        "2. get auto_token: https://developer.spotify.com/console/get-track/ (choose scopes user-library-modify user-library-read user-top-read)\n",
        "3. copy token and change `spotify_auth_token`\n",
        "\n",
        "## Apple Music\n",
        "1. output Library.xml in apple music library: File->Lib->Export \n",
        "2. change the `file` as your file's path"
      ],
      "metadata": {
        "id": "vCP9wkahNCdr"
      }
    },
    {
      "cell_type": "code",
      "source": [
        "config = {\n",
        "    \"spotify_auth_token\": \"\",# token input here \n",
        "}\n",
        "file_path = '/content/drive/MyDrive/Library.xml' # path here"
      ],
      "metadata": {
        "id": "P3NjxIzqWhFg"
      },
      "execution_count": 1,
      "outputs": []
    },
    {
      "cell_type": "code",
      "execution_count": 4,
      "metadata": {
        "id": "WY1V5bDdRkhx"
      },
      "outputs": [],
      "source": [
        "import plistlib, json\n",
        "import requests\n",
        "import tqdm\n",
        "import time\n",
        "\n",
        "\n",
        "def create_query(entry):\n",
        "    keys = [ 'name', 'artist', 'album']\n",
        "    query = \"?type=track&q=\"\n",
        "    for key in keys:\n",
        "        query += (entry.get(key) if entry.get(key) else '') + \"+\"\n",
        "    return query\n",
        "\n",
        "\n",
        "\n",
        "def search_song(entry):\n",
        "    sesh = requests.session()\n",
        "    res = sesh.get('https://api.spotify.com/v1/search' + create_query(entry),\n",
        "    headers = {\n",
        "        'Authorization': 'Bearer ' + config['spotify_auth_token']\n",
        "    })\n",
        "    if res.status_code == 401:\n",
        "        print('You need a new access_token!')\n",
        "        return None\n",
        "    if res.json():\n",
        "        data = res.json()\n",
        "        return data\n",
        "\n",
        "with open(file_path, 'rb') as f:\n",
        "    plist = plistlib.load(f)\n",
        "\n",
        "song_list = []\n",
        "\n",
        "index = 0\n",
        "for k, v in plist['Tracks'].items():\n",
        "    artist = v.get('Artist')\n",
        "    name = v.get('Name')\n",
        "    album = v.get('Album')\n",
        "    song_list.append({'artist': artist, 'name': name, 'album': album})\n",
        "    if not artist or not name or not album:\n",
        "        index += 1\n",
        "\n",
        "song_ids_to_like = []\n",
        "for track in song_list:\n",
        "    response = search_song(track)\n",
        "    if response.get('tracks'):\n",
        "        if response['tracks'].get('items'):\n",
        "            if len(response['tracks']['items']) > 0:\n",
        "                song_ids_to_like.append(response['tracks']['items'][0]['id'])                                                                                                                        \n"
      ]
    },
    {
      "cell_type": "code",
      "source": [
        "def likesong(song_ids):\n",
        "    song_lists = []\n",
        "    songs = []\n",
        "    song_ids.reverse()\n",
        "    for song in song_ids:\n",
        "        if len(songs) == 50:\n",
        "            song_lists.append(songs)\n",
        "            songs = []\n",
        "        songs.append(song)\n",
        "    if len(songs) > 0:\n",
        "        song_lists.append(songs)\n",
        "    sesh = requests.session()\n",
        "    for sids in song_lists:\n",
        "        res = sesh.put('https://api.spotify.com/v1/me/tracks',\n",
        "        data=json.dumps({\n",
        "            'ids': sids\n",
        "        }),\n",
        "        headers={\n",
        "            'Authorization': 'Bearer ' + config['spotify_auth_token']\n",
        "        })\n",
        "        if res.status_code == 401:\n",
        "            print('You need a new access_token!')\n",
        "            return None\n",
        "        if res.status_code == 200:\n",
        "            print(\"Added 50 Songs to Liked Songs\")\n",
        "        else:\n",
        "            print(res.status_code)\n",
        "            print('Failed to add another 50 songs to Liked Songs')\n",
        "        time.sleep(3)"
      ],
      "metadata": {
        "id": "pdiHin6WWz0k"
      },
      "execution_count": 2,
      "outputs": []
    },
    {
      "cell_type": "code",
      "source": [
        "likesong(song_ids_to_like)"
      ],
      "metadata": {
        "id": "9cpqET2wV-2u"
      },
      "execution_count": null,
      "outputs": []
    }
  ]
}